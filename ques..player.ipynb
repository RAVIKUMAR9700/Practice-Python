{
 "cells": [
  {
   "cell_type": "code",
   "execution_count": 5,
   "metadata": {},
   "outputs": [
    {
     "name": "stdout",
     "output_type": "stream",
     "text": [
      "ENTER PLAYER NAME :virat\n",
      "maximum score is  : 80\n",
      "avrage of scores: 50 \n"
     ]
    }
   ],
   "source": [
    " p = {'virat':{'m_1':25,'m_2':80,'m_3':45},\n",
    "     'sachin':{'m_1':55,'m_2':64,'m_3':84},\n",
    "     'pandey':{'m_1':45,'m_2':30,'m_3':44},\n",
    "     'rohit':{'m_1':20,'m_2':40,'m_3':45},\n",
    "     'dhoni':{'m_1':75,'m_2':44,'m_3':104},\n",
    "     'shikhar':{'m_1':90,'m_2':23,'m_3':76}}\n",
    "name = str(input('ENTER PLAYER NAME :')).lower()\n",
    "match_1 = p[name]['m_1']\n",
    "match_2 = p[name]['m_2']\n",
    "match_3 = p[name]['m_3']\n",
    "\n",
    "if match_1>match_2 and match_1>match_3:\n",
    "    print('maximum score is  :',match_1)\n",
    "elif match_2>match_3 and match_2>match_1:\n",
    "    print('maximum score is  :',match_2)\n",
    "else:\n",
    "    print('maximum score is :',match_3)\n",
    "    print()\n",
    "    \n",
    "\n",
    "avg = (match_1+match_2+match_3)//3\n",
    "\n",
    "print('avrage of scores: {} '.format(avg))\n"
   ]
  },
  {
   "cell_type": "code",
   "execution_count": null,
   "metadata": {},
   "outputs": [],
   "source": [
    "name = str(input('ENTER PLAYER NAME :')).lower()\n",
    "match_1 = p[name]['m_1']\n",
    "match_2 = p[name]['m_2']\n",
    "match_3 = p[name]['m_3']\n",
    "scr = match_1+match_2+match_3\n",
    "print('score of three matchs: {} '.format(scr))\n",
    "avg = (match_1+match_2+match_3)//3\n",
    "print('avrage of scores: {} '.format(avg))"
   ]
  },
  {
   "cell_type": "code",
   "execution_count": 60,
   "metadata": {},
   "outputs": [
    {
     "name": "stdout",
     "output_type": "stream",
     "text": [
      "score of three matchs: 203 \n",
      "avrage of scores: 67 \n"
     ]
    }
   ],
   "source": [
    "print('score of three matchs: {} '.format(scr))\n",
    "print('avrage of scores: {} '.format(avg))"
   ]
  },
  {
   "cell_type": "code",
   "execution_count": null,
   "metadata": {},
   "outputs": [],
   "source": []
  }
 ],
 "metadata": {
  "kernelspec": {
   "display_name": "Python 3",
   "language": "python",
   "name": "python3"
  },
  "language_info": {
   "codemirror_mode": {
    "name": "ipython",
    "version": 3
   },
   "file_extension": ".py",
   "mimetype": "text/x-python",
   "name": "python",
   "nbconvert_exporter": "python",
   "pygments_lexer": "ipython3",
   "version": "3.8.3"
  }
 },
 "nbformat": 4,
 "nbformat_minor": 4
}
