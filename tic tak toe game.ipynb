{
 "cells": [
  {
   "cell_type": "code",
   "execution_count": 1,
   "metadata": {},
   "outputs": [
    {
     "name": "stdout",
     "output_type": "stream",
     "text": [
      "x|o|x\n",
      "-+-+-\n",
      "o|x|o\n",
      "-+-+-\n",
      " | |x\n",
      "game over\n",
      "x  win\n"
     ]
    }
   ],
   "source": [
    "from IPython.display import clear_output   \n",
    "board=[' ',' ',' ',' ',' ',' ',' ',' ',' ']\n",
    "\n",
    "\n",
    "def brd():\n",
    "    print(board[0]+\"|\"+board[1]+'|'+board[2])\n",
    "    print('-'+'+'+'-'+'+'+'-')\n",
    "    print(board[3]+\"|\"+board[4]+'|'+board[5])\n",
    "    print('-'+'+'+'-'+'+'+'-')\n",
    "    print(board[6]+\"|\"+board[7]+'|'+board[8])\n",
    "\n",
    "    \n",
    "def game():\n",
    "    turn=input(\"Enter the choice x or o :\")\n",
    "    for i in range(9):\n",
    "        \n",
    "        move=int(input(\"Enter the position :\"))-1\n",
    "        board[move]=turn\n",
    "        clear_output()\n",
    "        brd()\n",
    "        if i>=4:\n",
    "            if board[0]==board[1]==board[2]!=' ':\n",
    "                \n",
    "                print(\"game over\")\n",
    "                print(turn,\" win\")\n",
    "                break\n",
    "            elif board[3]==board[4]==board[5]!=' ':\n",
    "                print(\"game over\")\n",
    "                print(turn,\" win\")\n",
    "                break\n",
    "            elif board[6]==board[7]==board[8]!=' ':\n",
    "                print(\"game over\")\n",
    "                print(turn,\" win\")\n",
    "                break\n",
    "            elif board[0]==board[4]==board[8]!=' ':\n",
    "                print(\"game over\")\n",
    "                print(turn,\" win\")\n",
    "                break\n",
    "            elif board[2]==board[4]==board[6]!=' ':\n",
    "                print(\"game over\")\n",
    "                print(turn,\" win\")\n",
    "                break\n",
    "            elif board[0]==board[3]==board[6]!=' ':\n",
    "                print(\"game over\")\n",
    "                print(turn,\" win\")\n",
    "                break\n",
    "            elif board[2]==board[5]==board[8]!=' ':\n",
    "                print(\"game over\")\n",
    "                print(turn,\" win\")\n",
    "                break\n",
    "            elif board[1]==board[4]==board[7]!=' ':\n",
    "                print(\"game over\")\n",
    "                print(turn,\" win\")\n",
    "                break\n",
    "       \n",
    "        if turn=='x':\n",
    "            \n",
    "            turn='o'\n",
    "        else:\n",
    "            turn='x'\n",
    "            \n",
    "        if i>=8:\n",
    "            print('The game is tie')\n",
    "               \n",
    "game()\n"
   ]
  },
  {
   "cell_type": "code",
   "execution_count": null,
   "metadata": {},
   "outputs": [],
   "source": []
  },
  {
   "cell_type": "code",
   "execution_count": 15,
   "metadata": {},
   "outputs": [],
   "source": []
  },
  {
   "cell_type": "code",
   "execution_count": null,
   "metadata": {},
   "outputs": [],
   "source": []
  },
  {
   "cell_type": "code",
   "execution_count": null,
   "metadata": {},
   "outputs": [],
   "source": []
  },
  {
   "cell_type": "code",
   "execution_count": null,
   "metadata": {},
   "outputs": [],
   "source": []
  },
  {
   "cell_type": "code",
   "execution_count": null,
   "metadata": {},
   "outputs": [],
   "source": []
  },
  {
   "cell_type": "code",
   "execution_count": null,
   "metadata": {},
   "outputs": [],
   "source": []
  },
  {
   "cell_type": "code",
   "execution_count": null,
   "metadata": {},
   "outputs": [],
   "source": []
  },
  {
   "cell_type": "code",
   "execution_count": null,
   "metadata": {},
   "outputs": [],
   "source": []
  }
 ],
 "metadata": {
  "kernelspec": {
   "display_name": "Python 3",
   "language": "python",
   "name": "python3"
  },
  "language_info": {
   "codemirror_mode": {
    "name": "ipython",
    "version": 3
   },
   "file_extension": ".py",
   "mimetype": "text/x-python",
   "name": "python",
   "nbconvert_exporter": "python",
   "pygments_lexer": "ipython3",
   "version": "3.8.3"
  }
 },
 "nbformat": 4,
 "nbformat_minor": 4
}
